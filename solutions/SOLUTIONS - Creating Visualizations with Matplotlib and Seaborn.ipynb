{
 "cells": [
  {
   "cell_type": "markdown",
   "metadata": {},
   "source": [
    "![image](../docs/img/cern-csc-vis-header.png)\n",
    "\n",
    "\n",
    "# Creating Visualizations with Matplotlib and Seaborn\n",
    "\n",
    "In these exercises we will look at how we can visualize data using libraries from the Python universe.\n",
    "The idea of these exercises is to introduce you to: \n",
    "\n",
    " * data querying, grouping, etc. in Pandas (a library to help in the fast querying and manipulation of tabular data);\n",
    " * data visualization using some basic tools to see distributions and relationships\n",
    " * interactive data visualization using Altair\n",
    " * creating visualizations to help in communication of your findings.\n",
    "\n",
    "There are number of libraries that are core to the work of a data scientist. On a daily basis I use all of the below:\n",
    "\n",
    " * [Matplotlib](http://matplotlib.org) is a fairly low level plotting library for Python inspired by Matlab.\n",
    " * [Seaborn](http://stanford.edu/~mwaskom/software/seaborn) is a higher-level library built on top of matplotlib with integrated analysis and specialized plots, e.g. violinplots, boxplots, etc.\n",
    " * [Bokeh](https://bokeh.pydata.org/en/latest/docs/gallery.html) is a relatively low-level library that provides high performance and interactive plotting functionalities. It also has a new counterpart called [HoloViews](http://holoviews.org/) that provides a simpler API on top of Bokeh. \n",
    " * [Altair](https://altair-viz.github.io/index.html) is a plotting library on top of Vega (JSON-driven visualization language), which allows for the use of a visual grammar to build our visualizations (rendered via HTML and JavaScript). \n",
    " * [Plotly](https://plot.ly/) is another popular interactive plotting library that has free and paid-for services. It provides a number of extensions such as Dash for the creation of rich interactive dashboards.\n",
    "\n",
    "Each provides a set of functionalities that will obviously have overlaps, but some benefits (e.g. sub-sampling of many points in a scatter plot from Bokeh) prove invaluable when scale is important.\n",
    "Also, some libraries will have implementations of visualization X, and some will not. \n",
    "__It is for this reason that our tool box is often greater than just one tool.__\n",
    "\n",
    "In this section we will first look at static visualizations in **Pandas**, **Matplotlib**, and **Seaborn**.\n",
    "\n",
    "As an optional set of exercises for those who are already well versed in Matplotlib and Seaborn, who want to learn something else, we proceed to using **Altair** for more interactive visual exploration of data.\n",
    "\n",
    "**We will see as we go along why one library is often not enough.**\n",
    "\n",
    "Note, exercises are marked in terms of difficulty by basic, advanced, or optional. These have been colour coded as follows:\n",
    "\n",
    "<p style=\"background: #81ecec; padding: 10px; color: #2d3436\"><strong>Basic</strong>: Basic will achievable by all in the class. This usually involves running the code you've seen before with your own parameters, or at most, checking the Matplotlib or Seaborn documentation on how to use some API.</p>\n",
    "\n",
    "<p style=\"background: #fab1a0; padding: 10px; color: #2d3436\"><strong>Advanced</strong>: This will be more appropriate for those who already have familiarity with the tools at hand, but which wil (hopefully) introduce some topics you have not seen before.</p>\n",
    "\n",
    "<p style=\"background: #ffeaa7; padding: 10px; color: #2d3436\"><strong>Optional</strong>: Optional allows you to express your inner data scientist and to show everyone how awesome you are in the use of Pandas, Matplotlib, and Seaborn :)</p>\n"
   ]
  },
  {
   "cell_type": "code",
   "execution_count": null,
   "metadata": {
    "ExecuteTime": {
     "end_time": "2018-10-09T21:30:54.922024Z",
     "start_time": "2018-10-09T21:30:53.637120Z"
    }
   },
   "outputs": [],
   "source": [
    "import matplotlib.pyplot as plt\n",
    "import numpy as np\n",
    "import pandas as pd\n",
    "import seaborn as sns"
   ]
  },
  {
   "cell_type": "code",
   "execution_count": null,
   "metadata": {},
   "outputs": [],
   "source": [
    "%matplotlib inline"
   ]
  },
  {
   "cell_type": "markdown",
   "metadata": {},
   "source": [
    "## Load Data\n",
    "\n",
    "We're going to be using data on football player attributes from [FIFA 2019](https://www.kaggle.com/artimous/complete-fifa-2017-player-dataset-global).. Why? Well, because it's fun, it's highly multi-dimensional, and we can process the data in an infinite number of ways. \n",
    "\n",
    "\n"
   ]
  },
  {
   "cell_type": "code",
   "execution_count": null,
   "metadata": {
    "ExecuteTime": {
     "end_time": "2018-10-09T22:38:26.143712Z",
     "start_time": "2018-10-09T22:38:25.971028Z"
    }
   },
   "outputs": [],
   "source": [
    "fifa = pd.read_csv('../data/fifa_player_data.csv')"
   ]
  },
  {
   "cell_type": "markdown",
   "metadata": {},
   "source": [
    "## Pandas Basics\n",
    "\n",
    "[Pandas](https://pandas.pydata.org/) is a fast, flexible library for the query and analysis of tabular data in Python. Under the hood it makes us of NumPy for the quick data operations and vector operations, and matplot for the visualization components.\n",
    "\n",
    "Whilst the goal of these exercises is not necessarily to become experts in Pandas, you will need some basic knowledge to be able to create visualizations."
   ]
  },
  {
   "cell_type": "code",
   "execution_count": null,
   "metadata": {
    "ExecuteTime": {
     "end_time": "2018-10-09T22:38:30.039294Z",
     "start_time": "2018-10-09T22:38:30.011200Z"
    }
   },
   "outputs": [],
   "source": [
    "# We can also query our data\n",
    "fifa.query('Position == \"ST\"').head()"
   ]
  },
  {
   "cell_type": "code",
   "execution_count": null,
   "metadata": {
    "ExecuteTime": {
     "end_time": "2018-10-09T22:38:29.056048Z",
     "start_time": "2018-10-09T22:38:29.016301Z"
    }
   },
   "outputs": [],
   "source": [
    "# We can also sort the data in any number of ways\n",
    "fifa.sort_values('Acceleration', ascending=False).head(5)"
   ]
  },
  {
   "cell_type": "code",
   "execution_count": null,
   "metadata": {
    "ExecuteTime": {
     "end_time": "2018-10-09T22:38:29.677340Z",
     "start_time": "2018-10-09T22:38:29.644801Z"
    }
   },
   "outputs": [],
   "source": [
    "# We can also make the sort work on numerous values\n",
    "fifa.sort_values(['Acceleration', 'Curve'], ascending=False).head(5)"
   ]
  },
  {
   "cell_type": "markdown",
   "metadata": {},
   "source": [
    "### Grouping\n",
    "\n",
    "We can even group items much like we'd do in SQL, perform calculations on some aggregated property, then plot values, just to get an idea of larger scale trends"
   ]
  },
  {
   "cell_type": "code",
   "execution_count": null,
   "metadata": {},
   "outputs": [],
   "source": [
    "fifa.groupby('Nationality').agg({'BallControl':'max'}).sort_values('BallControl', ascending=False).head(10)"
   ]
  },
  {
   "cell_type": "code",
   "execution_count": null,
   "metadata": {},
   "outputs": [],
   "source": [
    "# Get the most common nationalities\n",
    "fifa.groupby('Nationality').size().sort_values(ascending=False).head(10)"
   ]
  },
  {
   "cell_type": "code",
   "execution_count": null,
   "metadata": {},
   "outputs": [],
   "source": [
    "# Get the most popular nationalities\n",
    "fifa.groupby('Position').size().sort_values(ascending=False).head(10)"
   ]
  },
  {
   "cell_type": "markdown",
   "metadata": {},
   "source": [
    "We can also plot this data directly using the matplotlib bindings linked from Pandas."
   ]
  },
  {
   "cell_type": "code",
   "execution_count": null,
   "metadata": {
    "ExecuteTime": {
     "end_time": "2018-10-09T21:31:04.144750Z",
     "start_time": "2018-10-09T21:31:02.424729Z"
    },
    "scrolled": true
   },
   "outputs": [],
   "source": [
    "fifa.groupby('Nationality').agg({'BallControl':'max'}).sort_values('BallControl', ascending=False).head(10).plot(kind='bar', figsize=(10, 3))"
   ]
  },
  {
   "cell_type": "markdown",
   "metadata": {},
   "source": [
    "<p style=\"background: #81ecec; padding: 10px; color: #2c3e50\"><strong>BASIC EXERCISE</strong> | Which <strong>Position</strong> has the players with the highest average <strong>SprintSpeed</strong>?</p>"
   ]
  },
  {
   "cell_type": "code",
   "execution_count": null,
   "metadata": {},
   "outputs": [],
   "source": [
    "# Answer 1\n",
    "fifa.groupby('Position').agg({'SprintSpeed':'mean'}).sort_values('SprintSpeed', ascending=False).head(10)"
   ]
  },
  {
   "cell_type": "markdown",
   "metadata": {},
   "source": [
    "<p style=\"background: #81ecec; padding: 10px; color: #2c3e50\"><strong>BASIC EXERCISE</strong> | Which <strong>Club</strong> has the players with the highest average <strong>SprintSpeed</strong>?</p>"
   ]
  },
  {
   "cell_type": "code",
   "execution_count": null,
   "metadata": {},
   "outputs": [],
   "source": [
    "# Answer 2\n",
    "fifa.groupby('Club').agg({'SprintSpeed':'mean'}).sort_values('SprintSpeed', ascending=False).head(10).rank(ascending=False)"
   ]
  },
  {
   "cell_type": "markdown",
   "metadata": {},
   "source": [
    "<p style=\"background: #ffeaa7; padding: 10px; color: #2c3e50\"><strong>OPTIONAL EXERCISE</strong> | Which position has the highest number of left footed players (Check out 'Preferred Foot') </p>"
   ]
  },
  {
   "cell_type": "code",
   "execution_count": null,
   "metadata": {
    "scrolled": true
   },
   "outputs": [],
   "source": [
    "# Answer 3\n",
    "fifa[fifa['Preferred Foot'] == 'Left'].groupby(['Position']).size().rank(ascending=False).sort_values(ascending=True)"
   ]
  },
  {
   "cell_type": "markdown",
   "metadata": {},
   "source": [
    "# Styling Plots (Matplotlib)\n",
    "\n",
    "In this set of exercises, we are using Matplotlib as the underlying plotting library for Pandas and also Seaborn.\n",
    "As such, we can change the styling to remove what is termed chart junk from the plots in order to bring focus to the data, not that which merely decorates it.\n",
    "\n",
    "A full list of all customizable options is here https://matplotlib.org/3.1.1/tutorials/introductory/customizing.html."
   ]
  },
  {
   "cell_type": "code",
   "execution_count": null,
   "metadata": {},
   "outputs": [],
   "source": [
    "# There is a list of often fairly garish styles that are available, e.g. this one below. \n",
    "# You can also try seaborn seaborn-colorblind, Solarize_Light2, seaborn-dark-palette\n",
    "\n",
    "with plt.style.context('ggplot') as s:\n",
    "        fifa.groupby('Nationality').agg({'BallControl':'max'}).sort_values('BallControl', ascending=False).head(10).plot(kind='bar')"
   ]
  },
  {
   "cell_type": "markdown",
   "metadata": {},
   "source": [
    "In our case, what we'll do is clean up the charts in terms of the use of the dark black lines for example. \n",
    "These serve no practical purpose.\n",
    "\n",
    "We should "
   ]
  },
  {
   "cell_type": "code",
   "execution_count": null,
   "metadata": {},
   "outputs": [],
   "source": [
    "# Here are some settings I use to remove some distractions including axis spines etc. that often distract from the visualization.\n",
    "\n",
    "pd.set_option(\"display.max_columns\",None)\n",
    "plt.rcParams['axes.facecolor'] = 'white'\n",
    "plt.rcParams['axes.spines.left'] = False\n",
    "plt.rcParams['axes.spines.right'] = False\n",
    "plt.rcParams['axes.spines.top'] = False\n",
    "plt.rcParams['axes.spines.bottom'] = False\n",
    "plt.rcParams['axes.grid'] = False\n",
    "plt.rcParams['axes.grid.axis'] = 'both'\n",
    "plt.rcParams['axes.labelcolor'] = '#555555'\n",
    "plt.rcParams['text.color'] = 'black'\n",
    "plt.rcParams['figure.figsize'] = 6,4\n",
    "plt.rcParams['figure.dpi'] = 100\n",
    "plt.rcParams['figure.titleweight'] = 'normal'\n",
    "plt.rcParams['font.family'] = 'sans-serif'"
   ]
  },
  {
   "cell_type": "code",
   "execution_count": null,
   "metadata": {},
   "outputs": [],
   "source": [
    "fifa.groupby('Nationality').agg({'BallControl':'max'}).sort_values('BallControl', ascending=False).head(10).plot(kind='bar', title='Top 10 Countries for Average Ball Control', color='black')\n",
    "plt.ylabel('Ball Control');"
   ]
  },
  {
   "cell_type": "markdown",
   "metadata": {},
   "source": [
    "If you so wanted, you could also restrict the Y axis to make the differences more obvious between the groups (but be careful when doing this). This is a technique, as shown in the lectures, to make people believe the differences are bigger than they are."
   ]
  },
  {
   "cell_type": "code",
   "execution_count": null,
   "metadata": {},
   "outputs": [],
   "source": [
    "fifa.groupby('Nationality').agg({'BallControl':'max'}).sort_values('BallControl', ascending=False).head(10).plot(kind='bar', title='Top 10 Countries for Average Ball Control', color='black')\n",
    "plt.ylabel('Ball Control');\n",
    "plt.ylim([90,100]);"
   ]
  },
  {
   "cell_type": "markdown",
   "metadata": {},
   "source": [
    "## Annotating Plots"
   ]
  },
  {
   "cell_type": "markdown",
   "metadata": {},
   "source": [
    "Annotating plots is always good for highlighting outliers, telling a story, etc.\n",
    "\n",
    "Since the basis of all the libraries we use here is matplotlib, we can annotate all of our plots in the same way!\n",
    "\n",
    "Have a check [here](https://matplotlib.org/3.1.1/api/_as_gen/matplotlib.pyplot.annotate.html) for configurable text and arrow properties. And [here](https://matplotlib.org/3.1.1/tutorials/text/annotations.html#plotting-guide-annotation) for a more complete level of documentation."
   ]
  },
  {
   "cell_type": "code",
   "execution_count": null,
   "metadata": {},
   "outputs": [],
   "source": [
    "_df = fifa.groupby('Nationality').agg({'BallControl':'max'}).sort_values('BallControl', ascending=False).head(10)\n",
    "_df.plot(kind='bar', title='Top 10 Countries for Average Ball Control', color='black')\n",
    "plt.ylabel('Ball Control');\n",
    "# plt.ylim([90,100]);\n",
    "\n",
    "plt.annotate('Brazil is a nice country', xy=(1, 95), xytext=(0.6, 97),\n",
    "            arrowprops=dict(facecolor='red', arrowstyle='->'))"
   ]
  },
  {
   "cell_type": "markdown",
   "metadata": {},
   "source": [
    "## Scales\n",
    "\n",
    "Truncating the Y-axis should be done with caution, but sometimes it makes sense, otherwise the differences will be almost invisible."
   ]
  },
  {
   "cell_type": "code",
   "execution_count": null,
   "metadata": {},
   "outputs": [],
   "source": [
    "_df = fifa.groupby('Nationality').agg({'BallControl':'max'}).sort_values('BallControl', ascending=False).head(10)\n",
    "_df.plot(kind='bar', title='Top 10 Countries for Average Ball Control', color='black')\n",
    "plt.ylabel('Ball Control');\n",
    "\n",
    "# To fix the range of the y-axis, we use the ylim() method\n",
    "plt.ylim([90,100]);\n",
    "\n",
    "plt.annotate('Brazil is a nice country', xy=(1, 95), xytext=(0.6, 97),\n",
    "            arrowprops=dict(facecolor='red', arrowstyle='->'))"
   ]
  },
  {
   "cell_type": "code",
   "execution_count": null,
   "metadata": {},
   "outputs": [],
   "source": [
    "_df = fifa.groupby('Nationality').agg({'BallControl':'max'}).sort_values('BallControl', ascending=False).head(10)\n",
    "_df.plot(kind='bar', title='Top 10 Countries for Average Ball Control', color='black')\n",
    "plt.ylabel('Ball Control');\n",
    "\n",
    "# To fix the range of the y-axis, we use the ylim() method\n",
    "# scale types are linear, log, logit, and symlog. - see https://matplotlib.org/gallery/pyplots/pyplot_scales.html#sphx-glr-gallery-pyplots-pyplot-scales-py\n",
    "plt.yscale('log');\n",
    "\n",
    "plt.annotate('Brazil is a nice country', xy=(1, 95), xytext=(2.6, 95.5),\n",
    "            arrowprops=dict(arrowstyle='-'))"
   ]
  },
  {
   "cell_type": "markdown",
   "metadata": {},
   "source": [
    "# Visualizing Distributions"
   ]
  },
  {
   "cell_type": "markdown",
   "metadata": {},
   "source": [
    "## Histograms"
   ]
  },
  {
   "cell_type": "code",
   "execution_count": null,
   "metadata": {
    "ExecuteTime": {
     "end_time": "2018-10-09T21:33:11.787876Z",
     "start_time": "2018-10-09T21:33:07.049368Z"
    }
   },
   "outputs": [],
   "source": [
    "# Directly from our dataframe, we can plot the distributions for all of our features, just to see how everything looks\n",
    "fifa.hist(bins=20, figsize=(20,20), color='black');"
   ]
  },
  {
   "cell_type": "code",
   "execution_count": null,
   "metadata": {
    "ExecuteTime": {
     "end_time": "2017-09-01T09:08:47.353146+02:00",
     "start_time": "2017-09-01T09:08:47.057376"
    }
   },
   "outputs": [],
   "source": [
    "# We can plot the distribution for just one of our features, and also change the number of bins.\n",
    "fifa.Penalties.plot(kind='hist', bins=25, color='black');"
   ]
  },
  {
   "cell_type": "markdown",
   "metadata": {},
   "source": [
    "We have a pretty normal distribution here with the mean value for penalty taking ability being around 50.\n",
    "\n",
    "But of course, we've made some decisions here in advance, such as the number of bins for the histogram. Changing this value will ultimately affect the resulting visualization. Let's try this with another feature."
   ]
  },
  {
   "cell_type": "code",
   "execution_count": null,
   "metadata": {
    "ExecuteTime": {
     "end_time": "2017-09-01T08:59:34.499619+02:00",
     "start_time": "2017-09-01T08:59:34.112788"
    }
   },
   "outputs": [],
   "source": [
    "# seaborn also offers not just a histogram but also an kernel density enstimation\n",
    "# sns.distplot(fifa.Rating,bins=50, color='#2ecc71')\n",
    "fifa.query('Club == \"Juventus\"').Penalties.plot(kind='hist', bins=20, color='black', alpha=0.5, label='Juventus')\n",
    "fifa.query('Club == \"FC Barcelona\"').Penalties.plot(kind='hist', bins=20, color='#a70042', alpha=0.5, label='FC Barcelona')\n",
    "plt.title('Penalty Proficiency - Juventus vs Barcelona', fontdict={'fontsize': 14, 'fontweight':'normal'})\n",
    "plt.legend()"
   ]
  },
  {
   "cell_type": "markdown",
   "metadata": {},
   "source": [
    "<p style=\"background: #81ecec; padding: 10px; color: #2c3e50\"><strong>BASIC EXERCISE</strong> | Plot the distributions for <strong>Acceleration</strong>. How does the number of 'bins' change your view of the data?</p>"
   ]
  },
  {
   "cell_type": "code",
   "execution_count": null,
   "metadata": {},
   "outputs": [],
   "source": [
    "# Answer 4\n",
    "fifa.Acceleration.plot(kind='hist', bins=50, color='black', title='Acceleration Distribution')"
   ]
  },
  {
   "cell_type": "markdown",
   "metadata": {},
   "source": [
    "<p style=\"background: #81ecec; padding: 10px; color: #2c3e50\"><strong>BASIC EXERCISE</strong> | Plot two histograms, one on top of the other for <strong>Acceleration</strong> of <strong>Italian</strong> Players vs <strong>Brazilian</strong> players.\n",
    "<br/>\n",
    "<br/>\n",
    "Hint: if you plot two histograms immediately after one another, the same figure will be used unless you call plt.figure() in between. \n",
    "</p>"
   ]
  },
  {
   "cell_type": "code",
   "execution_count": null,
   "metadata": {
    "ExecuteTime": {
     "end_time": "2017-09-01T09:11:00.218488+02:00",
     "start_time": "2017-09-01T09:11:00.216049"
    }
   },
   "outputs": [],
   "source": [
    "# Answer 5\n",
    "fifa.query('Nationality == \"Italy\"').Acceleration.plot(kind='hist', bins=20, color='blue', alpha=0.6, label='Italy')\n",
    "fifa.query('Nationality == \"Brazil\"').Acceleration.plot(kind='hist', bins=20, color='yellow', alpha=0.6, label='Brazil')\n",
    "\n",
    "plt.legend();\n",
    "plt.title('Brazil vs Italian Player Acceleration');"
   ]
  },
  {
   "cell_type": "markdown",
   "metadata": {},
   "source": [
    "## Box Plots"
   ]
  },
  {
   "cell_type": "code",
   "execution_count": null,
   "metadata": {},
   "outputs": [],
   "source": [
    "fifa.boxplot('Overall', by='Position', rot=90, figsize=(15, 7));"
   ]
  },
  {
   "cell_type": "markdown",
   "metadata": {},
   "source": [
    "We can also use Seaborn to visualize Boxplots, which provides nicer styling by default, but as you'll see, the syntax is as easy as using the boxplot function from Pandas."
   ]
  },
  {
   "cell_type": "code",
   "execution_count": null,
   "metadata": {},
   "outputs": [],
   "source": [
    "fig = plt.figure(figsize=(15, 7))\n",
    "g = sns.boxplot(x=\"Position\", y=\"Overall\", data=fifa, palette=sns.color_palette(['#2ecc71']))\n",
    "plt.title('Overall rating by Position');"
   ]
  },
  {
   "cell_type": "markdown",
   "metadata": {},
   "source": [
    "## Swarm Plots\n",
    "\n",
    "These plots the actual points, with some jitter to help us see how many points (roughly are around particular values).\n",
    "\n",
    "We will use a sample of the data for this, to avoid rendering all data points."
   ]
  },
  {
   "cell_type": "code",
   "execution_count": null,
   "metadata": {},
   "outputs": [],
   "source": [
    "sample_data = fifa.sample(2000)"
   ]
  },
  {
   "cell_type": "code",
   "execution_count": null,
   "metadata": {
    "ExecuteTime": {
     "end_time": "2018-10-09T21:49:43.608434Z",
     "start_time": "2018-10-09T21:49:42.865750Z"
    }
   },
   "outputs": [],
   "source": [
    "fig = plt.figure(figsize=(20, 7))\n",
    "g = sns.swarmplot(x=\"Position\", y=\"Acceleration\", data=sample_data, hue='Preferred Foot')\n",
    "plt.title('Overall rating by Position');"
   ]
  },
  {
   "cell_type": "markdown",
   "metadata": {},
   "source": [
    "**Swarm Plots** can also be overlaid on top of other plots.\n",
    "\n",
    "We use a sample here, otherwise there are many points to plot."
   ]
  },
  {
   "cell_type": "code",
   "execution_count": null,
   "metadata": {
    "ExecuteTime": {
     "end_time": "2018-10-09T21:49:39.394227Z",
     "start_time": "2018-10-09T21:49:36.264827Z"
    }
   },
   "outputs": [],
   "source": [
    "fig = plt.figure(figsize=(20, 7))\n",
    "g = sns.boxplot(x=\"Position\", y=\"Acceleration\", data=sample_data, palette=sns.color_palette(['#2ecc71']))\n",
    "g = sns.swarmplot(x=\"Position\", y=\"Acceleration\", data=sample_data, palette=sns.color_palette(['#2ecc71']))\n",
    "plt.setp(g.get_xticklabels(), rotation=90);\n",
    "\n",
    "# We should also add a title!\n",
    "plt.title('Acceleration Distributions by Position', fontdict={'fontsize': 18, 'fontweight':'normal'})\n",
    "\n",
    "# And we can change the size of the labels on the axes.\n",
    "g.yaxis.label.set_size(14)\n",
    "g.xaxis.label.set_size(14)"
   ]
  },
  {
   "cell_type": "markdown",
   "metadata": {},
   "source": [
    "It's quite hard to see from this plot which position is the fastest, (slowest is easier). It would be useful to be able to sort the X axis so that comparison is easier and **less cognitively demanding**.\n",
    "\n",
    "What we can do is provide an order variable to the box and swarm plots to tell Seaborn what order we wish to display the data in on the X axis."
   ]
  },
  {
   "cell_type": "code",
   "execution_count": null,
   "metadata": {},
   "outputs": [],
   "source": [
    "# This groups by the Position, then gets the average Acceleration per position, and sorts the values in descending order. Finally, we take the index, which is the position (due to the groupby).\n",
    "fastest_average = sample_data.groupby('Position').agg({'Acceleration': 'mean'}).sort_values('Acceleration', ascending=False).index"
   ]
  },
  {
   "cell_type": "code",
   "execution_count": null,
   "metadata": {},
   "outputs": [],
   "source": [
    "fastest_average"
   ]
  },
  {
   "cell_type": "code",
   "execution_count": null,
   "metadata": {},
   "outputs": [],
   "source": [
    "fig = plt.figure(figsize=(20, 7))\n",
    "g = sns.boxplot(x=\"Position\", y=\"Acceleration\", data=sample_data, order=fastest_average, palette=sns.color_palette(['#2ecc71']))\n",
    "\n",
    "g = sns.swarmplot(x=\"Position\", y=\"Acceleration\", data=sample_data, order=fastest_average, palette=sns.color_palette(['#2ecc71']))\n",
    "\n",
    "plt.setp(g.get_xticklabels(), rotation=90);"
   ]
  },
  {
   "cell_type": "markdown",
   "metadata": {},
   "source": [
    "This simple transformation makes it much easier for users to extract information from the plot!\n",
    "\n",
    "Our users will thank us...maybe."
   ]
  },
  {
   "cell_type": "markdown",
   "metadata": {},
   "source": [
    "## Violin Plots"
   ]
  },
  {
   "cell_type": "markdown",
   "metadata": {},
   "source": [
    "As shown in the lectures, Boxplots, can often hide the true distributions. \n",
    "\n",
    "Whilst the Boxplots with the Swarmplots let us see more of the data, the approach is not always scalable (if we have millions of data points, we can't easily plot millions of points in Matplotlib on our machines).\n",
    "\n",
    "Since there are no violin plots by default in Matplotlib, we can use Seaborn for this. **This is reason we need multiple libraries in our toolbox.**"
   ]
  },
  {
   "cell_type": "markdown",
   "metadata": {},
   "source": [
    "<p style=\"background: #81ecec; padding: 10px; color: #2c3e50\"><strong>BASIC EXERCISE</strong> | Take a look at the <a href=\"https://seaborn.pydata.org/examples/index.html\" target=\"_new\">Seaborn gallery</a> and find how you can use the Violinplot in your analysis. </p>"
   ]
  },
  {
   "cell_type": "code",
   "execution_count": null,
   "metadata": {},
   "outputs": [],
   "source": [
    "# Answer 6\n",
    "fig = plt.figure(figsize=(20, 7))\n",
    "g = sns.violinplot(x=\"Position\", y=\"Acceleration\", data=fifa, palette=sns.color_palette(['#2ecc71']), linewidth=1.5)"
   ]
  },
  {
   "cell_type": "markdown",
   "metadata": {},
   "source": [
    "<p style=\"background: #81ecec; padding: 10px; color: #2c3e50\"><strong>BASIC EXERCISE:</strong> The Seaborn library also allows for direct comparisons of groups within the Violin plots - it plots group 1 on the left side of the violin, and group 2 on the right. How can you use the functions of the library to compare players based on their PreferredFoot for example? \n",
    "<br/>\n",
    "<br/>\n",
    "    Hint: Have a look at the <a href=\"https://seaborn.pydata.org/generated/seaborn.violinplot.html\">Violin Plot Documentation</a></p>"
   ]
  },
  {
   "cell_type": "code",
   "execution_count": null,
   "metadata": {},
   "outputs": [],
   "source": [
    "# Answer 7\n",
    "plt.figure(figsize=(15,6))\n",
    "g = sns.violinplot(x=\"Position\", y=\"Finishing\", hue='Preferred Foot', data=fifa, split=True, inner=\"quartile\")"
   ]
  },
  {
   "cell_type": "markdown",
   "metadata": {},
   "source": [
    "## Boxen Plots\n",
    "\n",
    "Boxen Plots do an equally good job of showing us how many points on the Y axis by having a rectangle that scales by the number of points in each bin. I actually prefer Boxenplots to Violinplots."
   ]
  },
  {
   "cell_type": "code",
   "execution_count": null,
   "metadata": {
    "scrolled": true
   },
   "outputs": [],
   "source": [
    "fig = plt.figure(figsize=(20, 7))\n",
    "g = sns.boxenplot(x=\"Position\", y=\"Acceleration\", hue='Preferred Foot', palette=sns.color_palette(['#bdc3c7', '#7f8c8d']), data=fifa)"
   ]
  },
  {
   "cell_type": "markdown",
   "metadata": {},
   "source": [
    "<p style=\"background: #81ecec; padding: 10px; color: #2c3e50\"><strong>BASIC EXERCISE</strong> |  Create a boxenplot showing the distribution of <strong>SprintSpeed</strong> by <strong>Position</strong>.\n",
    "<br/>\n",
    "Which position has the fastest players?\n",
    "</p>"
   ]
  },
  {
   "cell_type": "code",
   "execution_count": null,
   "metadata": {},
   "outputs": [],
   "source": [
    "# Answer 8\n",
    "fig = plt.figure(figsize=(20, 7))\n",
    "g = sns.boxenplot(x=\"Position\", y=\"SprintSpeed\", data=fifa, palette=sns.color_palette(['#2ecc71']))"
   ]
  },
  {
   "cell_type": "markdown",
   "metadata": {},
   "source": [
    "<p style=\"background: #fab1a0; padding: 10px; color: #2c3e50\"><strong>ADVANCED EXERCISE</strong>: Answering the above question can be difficult when the bars are not aligned. Can you make it easier for us to answer such a question? Sort the positions by the average <strong>SprintSpeed</strong> (see example above for the Boxplot...).</p>"
   ]
  },
  {
   "cell_type": "code",
   "execution_count": null,
   "metadata": {},
   "outputs": [],
   "source": [
    "# Answer 9\n",
    "fastest_average = fifa.groupby('Position').agg({'SprintSpeed': 'mean'}).sort_values('SprintSpeed', ascending=False).index\n",
    "\n",
    "fig = plt.figure(figsize=(20, 7))\n",
    "g = sns.boxenplot(x=\"Position\", y=\"SprintSpeed\", data=fifa, order=fastest_average, palette=sns.color_palette(['#2ecc71']))"
   ]
  },
  {
   "cell_type": "markdown",
   "metadata": {},
   "source": [
    "<p style=\"background: #ffeaa7; padding: 10px; color: #2c3e50\"><strong>OPTIONAL EXERCISE</strong>: Can you find the high outlier(s) for the LW position and annotation to mark who this player is?</p>"
   ]
  },
  {
   "cell_type": "code",
   "execution_count": null,
   "metadata": {},
   "outputs": [],
   "source": [
    "# Answer 10\n",
    "fig = plt.figure(figsize=(20, 7))\n",
    "g = sns.boxenplot(x=\"Position\", y=\"SprintSpeed\", data=fifa, palette=sns.color_palette(['#bdc3c7', '#7f8c8d']))\n",
    "\n",
    "plt.annotate('Leroy Sane', xy=(2, 96), xytext=(3,99), arrowprops=dict(arrowstyle='->'), );"
   ]
  },
  {
   "cell_type": "markdown",
   "metadata": {},
   "source": [
    "## Boxplots vs Violinplots vs Boxenplots\n",
    "\n",
    "\n",
    "### Box Plots:\n",
    "\n",
    "**Advantages:**\n",
    "1. Familiar to many readers.\n",
    "2. Shows the median, quartiles, and potential outliers in the data.\n",
    "3. Provides a simple summary of the data's spread and central tendency.\n",
    "\n",
    "**Disadvantages:**\n",
    "1. Doesn't show the underlying distribution of the data.\n",
    "2. Can be sensitive to extreme values.\n",
    "\n",
    "**Use Case:** When you want to show central tendencies and spread of data across different groups in a manner that's easily interpretable to most audiences.\n",
    "\n",
    "\n",
    "### Violin Plots:\n",
    "\n",
    "**Advantages:**\n",
    "1. Combines a box plot with a density plot to show the distribution of the data.\n",
    "2. Provides more information about the shape of the data distribution.\n",
    "3. Can highlight modes or multiple peaks in the distribution.\n",
    "\n",
    "**Disadvantages:**\n",
    "1. Can be a bit more complex and might be unfamiliar to some audiences.\n",
    "2. Density estimation can sometimes be influenced by bandwidth choice.\n",
    "\n",
    "**Use Case:** When you want to emphasize the shape and distribution of the data, especially if there are multiple modes or peaks.\n",
    "\n",
    "### Boxen Plots (or Letter-value Plots):\n",
    "\n",
    "**Advantages:**\n",
    "1. An enhanced version of the box plot that can show more quantiles.\n",
    "2. Can represent more detail about the shape of the distribution than a standard box plot.\n",
    "3. Good at visualizing datasets with large numbers of observations.\n",
    "\n",
    "**Disadvantages:**\n",
    "1. Less commonly used and might be unfamiliar to some audiences.\n",
    "2. Might be perceived as overly complex for simple datasets.\n",
    "\n",
    "**Use Case:** When dealing with large datasets where you want to show more details about the distribution than a standard box plot would convey.\n",
    "\n",
    "\n",
    "### Which to choose:\n",
    "\n",
    "* If your audience is familiar with box plots and **you just need a simple summary** of your data, **a box plot is a good choice**.\n",
    "* If you want to **highlight the shape and nuances** of your data distribution, **a violin plot can be effective**.\n",
    "* If you have a **large dataset** and want to show a **detailed summary** of your data distribution, a boxen plot may be ideal.\n",
    "\n",
    "However, always consider your audience. A visualization is most effective when it's easily interpreted and understood by its intended viewers."
   ]
  },
  {
   "cell_type": "markdown",
   "metadata": {},
   "source": [
    "# Visualizing Correlations\n",
    "\n",
    "We can also look at the correlations between variables in the traditional scatter plot. We can create them in a number of ways."
   ]
  },
  {
   "cell_type": "markdown",
   "metadata": {
    "ExecuteTime": {
     "end_time": "2017-08-31T19:46:19.529012+02:00",
     "start_time": "2017-08-31T19:46:19.526581"
    }
   },
   "source": [
    "## Scatter Plots"
   ]
  },
  {
   "cell_type": "code",
   "execution_count": null,
   "metadata": {},
   "outputs": [],
   "source": [
    "# The first way is using Matplotlib\n",
    "plt.figure(figsize=(15,10))\n",
    "plt.scatter(x=fifa['Acceleration'],y=fifa['SprintSpeed'], alpha=0.2)\n",
    "plt.title('Acceleration vs Sprint Speed')\n",
    "plt.xlabel('Acceleration');\n",
    "plt.ylabel('Sprint Speed');"
   ]
  },
  {
   "cell_type": "markdown",
   "metadata": {},
   "source": [
    "### Annotating\n",
    "\n",
    "When exploring your dataset, you may find some interesting outliers, \n",
    "\n",
    "It would be useful to be able to add some context to this plot. Maybe we'd like to describe some of the points in the graphs, for example the outliers, or the player with the best SprintSpeed, and Acceleration"
   ]
  },
  {
   "cell_type": "code",
   "execution_count": null,
   "metadata": {},
   "outputs": [],
   "source": [
    "# fifa.query('Acceleration > 95 & SprintSpeed < 95')[['Name', 'SprintSpeed', 'Acceleration']]"
   ]
  },
  {
   "cell_type": "code",
   "execution_count": null,
   "metadata": {},
   "outputs": [],
   "source": [
    "fifa.query('Acceleration > 90')[['Name', 'SprintSpeed', 'Acceleration']].sort_values(['Acceleration', 'SprintSpeed'])"
   ]
  },
  {
   "cell_type": "code",
   "execution_count": null,
   "metadata": {},
   "outputs": [],
   "source": [
    "# The first way is using Matplotlib\n",
    "plt.figure(figsize=(15,10))\n",
    "plt.scatter(x=fifa['Acceleration'], y=fifa['SprintSpeed'], alpha=0.3)\n",
    "plt.title('Acceleration vs Sprint Speed')\n",
    "plt.xlabel('Acceleration');\n",
    "plt.ylabel('Sprint Speed');\n",
    "\n",
    "plt.annotate('L. Messi', xy=(91, 80), xytext=(91, 50), arrowprops=dict(arrowstyle='->', connectionstyle='angle'));\n",
    "plt.annotate('K. Mbappé', xy=(97, 97), xytext=(97, 94), arrowprops=dict(arrowstyle='->', connectionstyle='angle'));\n",
    "plt.annotate('M. Diaby', xy=(96, 92), xytext=(96, 80), arrowprops=dict(arrowstyle='->', connectionstyle='angle'));"
   ]
  },
  {
   "cell_type": "code",
   "execution_count": null,
   "metadata": {},
   "outputs": [],
   "source": [
    "plt.figure(figsize=(15,10))\n",
    "\n",
    "ax = sns.scatterplot(x=\"Acceleration\", y=\"SprintSpeed\", hue=\"Position\", data=fifa, alpha=0.5)\n",
    "\n",
    "plt.annotate('L. Messi', xy=(91, 80), xytext=(91, 50), arrowprops=dict(arrowstyle='->', connectionstyle='angle'));\n",
    "plt.annotate('K. Mbappé', xy=(97, 97), xytext=(97, 94), arrowprops=dict(arrowstyle='->', connectionstyle='angle'));\n",
    "plt.annotate('M. Diaby', xy=(96, 92), xytext=(96, 80), arrowprops=dict(arrowstyle='->', connectionstyle='angle'));"
   ]
  },
  {
   "cell_type": "markdown",
   "metadata": {},
   "source": [
    "There is an obvious correlation here between Acceleration and SprintSpeed. Intuitively, we would expect this."
   ]
  },
  {
   "cell_type": "code",
   "execution_count": null,
   "metadata": {},
   "outputs": [],
   "source": [
    "# Of course, the summary statistics nicely made available through Pandas helper functions will confirm this :)\n",
    "fifa[['Acceleration', 'SprintSpeed']].corr()"
   ]
  },
  {
   "cell_type": "code",
   "execution_count": null,
   "metadata": {},
   "outputs": [],
   "source": [
    "mapping = {'RCB': 'DEF', 'LCB': 'DEF', 'CB': 'DEF',\n",
    "           'LB': 'DEF', 'RB': 'DEF', \n",
    "           'LWB': 'DEF', 'RWB': 'DEF',\n",
    "           'CDM': 'MID', 'RM': 'MID',\n",
    "           'LCM': 'MID', 'RCM': 'MID', 'LM': 'MID', 'CAM': 'MID',\n",
    "           'LDM': 'MID', 'RDM': 'MID',\n",
    "           'LAM': 'MID', 'RAM': 'MID',\n",
    "           'CM': 'MID', 'LW': 'MID', 'RW': 'MID',\n",
    "           'LS': 'ST', 'RS': 'ST', 'RF': 'ST', 'LF': 'ST', 'CF': 'ST'\n",
    "          }\n",
    "fifa['GeneralPosition'] = fifa.Position.apply(lambda x: mapping[x] if x in mapping else x )"
   ]
  },
  {
   "cell_type": "code",
   "execution_count": null,
   "metadata": {},
   "outputs": [],
   "source": [
    "fifa = fifa[~fifa.GeneralPosition.isna()]"
   ]
  },
  {
   "cell_type": "code",
   "execution_count": null,
   "metadata": {},
   "outputs": [],
   "source": [
    "plt.figure(figsize=(15,10))\n",
    "\n",
    "ax = sns.scatterplot(x=\"Acceleration\", y=\"SprintSpeed\", hue=\"GeneralPosition\", data=fifa, alpha=0.2)\n",
    "\n",
    "plt.annotate('L. Messi', xy=(91, 80), xytext=(91, 50), arrowprops=dict(arrowstyle='->', connectionstyle='angle'));\n",
    "plt.annotate('K. Mbappé', xy=(97, 97), xytext=(97, 94), arrowprops=dict(arrowstyle='->', connectionstyle='angle'));\n",
    "plt.annotate('M. Diaby', xy=(96, 92), xytext=(96, 80), arrowprops=dict(arrowstyle='->', connectionstyle='angle'));"
   ]
  },
  {
   "cell_type": "markdown",
   "metadata": {},
   "source": [
    "This is a bit better of course since now we have many fewer colours. One obvious problem however is the overlap of points and colours. Only one category really stands out, and that is the goalkeeper group.\n",
    "\n",
    "In order to reduce the information load, we can perhaps show where the greater densities of points lay, whilst drawing the individual points for a specific group of players. \n",
    "\n",
    "Let's say for example, Romanian players in the context of all other players."
   ]
  },
  {
   "cell_type": "markdown",
   "metadata": {},
   "source": [
    "### KDE Plots\n",
    "\n",
    "**A Kernel Density Estimation (KDE) plot** is a method used for visualizing the probability density function of a continuous variable. Instead of showing individual data points or binning data like in histograms, KDE provides a smoothed estimate of a dataset's distribution.\n",
    "\n",
    "**Key Points:**\n",
    "\n",
    "1. **Smoothing:** KDE plots use a smoothing parameter called bandwidth. The bandwidth affects the shape of the plot. A smaller bandwidth will result in a plot that's more sensitive to small variations in the data (possibly noisy), whereas a larger bandwidth will produce a smoother plot.\n",
    "\n",
    "2. **Kernel:** KDE uses a kernel (typically Gaussian) which is a function that describes the shape of the curve used to represent each data point. This kernel is \"slid\" across the data, and at each point, it sums up the contributions from all data points to give the estimated density at that point.\n",
    "\n",
    "A KDE can be seen as a continuous and smoothed version of a histogram. While histograms depend on the bin size and start position, KDE provides a more continuous view, free from the granularity and arbitrariness of bin choices."
   ]
  },
  {
   "cell_type": "markdown",
   "metadata": {},
   "source": [
    "#### 1D KDEs"
   ]
  },
  {
   "cell_type": "code",
   "execution_count": null,
   "metadata": {},
   "outputs": [],
   "source": [
    "sns.kdeplot(fifa.query('Position == \"CB\"').Acceleration)"
   ]
  },
  {
   "cell_type": "code",
   "execution_count": null,
   "metadata": {},
   "outputs": [],
   "source": [
    "sns.kdeplot(fifa.query('Position == \"CB\"').Acceleration)\n",
    "sns.displot(fifa.query('Position == \"CB\"').Acceleration)"
   ]
  },
  {
   "cell_type": "markdown",
   "metadata": {},
   "source": [
    "#### 2D KDEs"
   ]
  },
  {
   "cell_type": "code",
   "execution_count": null,
   "metadata": {},
   "outputs": [],
   "source": [
    "sns.kdeplot(data=fifa.query('Position == \"CB\"'), x='Acceleration', y='SprintSpeed', fill=True, thresh=0.1, legend=True)"
   ]
  },
  {
   "cell_type": "markdown",
   "metadata": {},
   "source": [
    "We can combine the scatter with the KDE plots to help us show the overall distributions of the data, whilst focusing on a few (or more if you prefer) data points."
   ]
  },
  {
   "cell_type": "code",
   "execution_count": null,
   "metadata": {},
   "outputs": [],
   "source": [
    "plt.figure(figsize=(15,10))\n",
    "\n",
    "estonian_gks = fifa.query('GeneralPosition == \"GK\" & Nationality == \"Estonia\"')\n",
    "\n",
    "sns.kdeplot(data=fifa, x='Acceleration', y='SprintSpeed', fill=True, hue=\"GeneralPosition\")\n",
    "\n",
    "# Add the scatter points for only goalkeepers from Estonia\n",
    "sns.scatterplot(x=\"Acceleration\", y=\"SprintSpeed\", color='red', data=estonian_gks)\n",
    "\n",
    "# Highlight the only Estonian goalkeeper\n",
    "plt.annotate('K. Hein', xy=(33, 38), xytext=(40, 80), arrowprops=dict(arrowstyle='->', connectionstyle='angle'));"
   ]
  },
  {
   "cell_type": "markdown",
   "metadata": {},
   "source": [
    "## Joint Plots\n",
    "\n",
    "Seaborn offers a lot of functionality out of the box.\n",
    "For instance, the joint plot gives us both histograms for the distributions of each variable, and also the joint distribution in the form of a scatter plot.\n",
    "\n",
    "For the first basic plot, we will plot the regression line alongside the points and marginal distributions. Seems complicated, but this is very easy in Seaborn."
   ]
  },
  {
   "cell_type": "code",
   "execution_count": null,
   "metadata": {
    "ExecuteTime": {
     "end_time": "2017-09-01T00:07:37.454560+02:00",
     "start_time": "2017-09-01T00:07:35.484913"
    }
   },
   "outputs": [],
   "source": [
    "sns.jointplot(data=fifa, x=\"BallControl\", y=\"Dribbling\", kind=\"reg\", color=\"#555555\")"
   ]
  },
  {
   "cell_type": "markdown",
   "metadata": {},
   "source": [
    "In this version we'll plot densities using the hexbins. This will reduce the noise a bit a show us the marginal distributions again but also a view of where the largest number of points is distributed."
   ]
  },
  {
   "cell_type": "code",
   "execution_count": null,
   "metadata": {},
   "outputs": [],
   "source": [
    "sns.jointplot(data=fifa, x=\"BallControl\", y=\"Dribbling\", kind=\"hex\", color=\"#555555\")"
   ]
  },
  {
   "cell_type": "markdown",
   "metadata": {},
   "source": [
    "Finally, we can use the Kernel Density Estimate (KDE) which provides a smooth estimation of the underlying disribution. This will reduce the noise a bit a show us the marginal distributions again but also a view of where the largest number of points is distributed."
   ]
  },
  {
   "cell_type": "code",
   "execution_count": null,
   "metadata": {},
   "outputs": [],
   "source": [
    "sns.jointplot(data=fifa, x=\"BallControl\", y=\"Dribbling\", kind=\"kde\", color=\"#555555\")"
   ]
  },
  {
   "cell_type": "markdown",
   "metadata": {},
   "source": [
    "As in the Hex plot, we can see two distinct groups in the data."
   ]
  },
  {
   "cell_type": "markdown",
   "metadata": {},
   "source": [
    "## Joint plots with Marginal Rugs"
   ]
  },
  {
   "cell_type": "code",
   "execution_count": null,
   "metadata": {},
   "outputs": [],
   "source": [
    "grid = sns.JointGrid(data=fifa, x=\"BallControl\", y=\"Dribbling\")\n",
    "grid.plot_joint(plt.scatter, color='black', alpha=0.05)\n",
    "grid.plot_marginals(sns.rugplot, height=0.2, alpha=0.01, color='black')"
   ]
  },
  {
   "cell_type": "markdown",
   "metadata": {},
   "source": [
    "### Annotations to highlight points of interest."
   ]
  },
  {
   "cell_type": "code",
   "execution_count": null,
   "metadata": {
    "scrolled": true
   },
   "outputs": [],
   "source": [
    "fifa.query('BallControl > 90 & Dribbling >90')[['Name', 'BallControl', 'Dribbling']]"
   ]
  },
  {
   "cell_type": "code",
   "execution_count": null,
   "metadata": {},
   "outputs": [],
   "source": [
    "plt.figure(figsize=(5,5))\n",
    "grid = sns.JointGrid(data=fifa, x=\"BallControl\", y=\"Dribbling\")\n",
    "grid.plot_joint(plt.scatter, color='black', alpha=0.2)\n",
    "grid.plot_marginals(sns.rugplot, height=0.2, alpha=0.02, color='black')\n",
    "\n",
    "grid.ax_joint.annotate('Neymar Jr', xy=(95, 95), xytext=(90, 70), arrowprops=dict(arrowstyle='->', connectionstyle='arc'));\n",
    "\n",
    "grid.ax_joint.annotate('Leo Messi', xy=(96, 96), xytext=(50, 90), color='red', arrowprops=dict(arrowstyle='->', connectionstyle='angle', color='red'));"
   ]
  },
  {
   "cell_type": "markdown",
   "metadata": {},
   "source": [
    "<div style=\"background: #81ecec; padding: 10px; color: #2c3e50\"><p><strong>BASIC EXERCISE</strong> |  Which features are more correlated? </p>\n",
    "<ul>\n",
    "<li><strong>Reactions</strong> and <strong>SprintSpeed</strong>;</li>\n",
    "<li><strong>Reactions</strong> and <strong>Curve</strong>; or</li>\n",
    "<li><strong>Reactions</strong> and <strong>Composure</strong></li>\n",
    "</ul>\n",
    "</div>"
   ]
  },
  {
   "cell_type": "code",
   "execution_count": null,
   "metadata": {},
   "outputs": [],
   "source": [
    "# Answer 11\n",
    "fig, ax = plt.subplots(ncols=3, nrows=1, figsize=(15,5))\n",
    "\n",
    "sns.scatterplot(data=fifa, x=\"Reactions\", y=\"SprintSpeed\", ax=ax[0], alpha=0.1);\n",
    "sns.scatterplot(data=fifa, x=\"Reactions\", y=\"Curve\", ax=ax[1], alpha=0.1);\n",
    "sns.scatterplot(data=fifa, x=\"Reactions\", y=\"Composure\", ax=ax[2], alpha=0.1);\n",
    "\n",
    "ax[0].set_title('Reactions vs SprintSpeed');\n",
    "ax[1].set_title('Reactions vs Curve');\n",
    "ax[2].set_title('Reactions vs Composure');"
   ]
  },
  {
   "cell_type": "code",
   "execution_count": null,
   "metadata": {},
   "outputs": [],
   "source": [
    "# Alternative Answer\n",
    "fifa[['Reactions','SprintSpeed', 'Curve','Composure']].corr().loc['Reactions',:]"
   ]
  },
  {
   "cell_type": "markdown",
   "metadata": {},
   "source": [
    "## Heatmaps\n",
    "\n",
    "While the techniques we've shown above are good for a few data points, they don't scale so well. \n",
    "\n",
    "Also, we don't necessarily need to visualize all possible pairwise comparisons of features to see which are more correlated. We can use the pearson correlation metric to help us find the most or least correlated features, and use that to drill down on the most interesting pieces of information.\n",
    "\n",
    "So let's go for a global view of the data."
   ]
  },
  {
   "cell_type": "code",
   "execution_count": null,
   "metadata": {},
   "outputs": [],
   "source": [
    "plt.figure(figsize=(15,15))\n",
    "sns.heatmap(fifa.corr())"
   ]
  },
  {
   "cell_type": "markdown",
   "metadata": {},
   "source": [
    "<p style=\"background: #81ecec; padding: 10px; color: #2c3e50\"><strong>BASIC EXERCISE</strong> | If you were a player and wanted to have a high <strong>overall</strong> rating, which two features should you have? </p>"
   ]
  },
  {
   "cell_type": "raw",
   "metadata": {},
   "source": [
    "# Answer 12\n",
    "High composure and reactions."
   ]
  },
  {
   "cell_type": "markdown",
   "metadata": {},
   "source": [
    "Is the visualization in its current form really suitable for the answering of such questions? I don't think so. So, now we'll improve this plot using some of the things we learnt in the lecture. The first being colour, the second beind grouping."
   ]
  },
  {
   "cell_type": "markdown",
   "metadata": {},
   "source": [
    "<p style=\"background: #81ecec; padding: 10px; color: #2c3e50\"><strong>BASIC EXERCISE</strong> | Assuming you have used the default colourmap, you may notice that it's not easy to see the positive vs negative correlations. Have a look at the colormaps available in the <a href=\"https://seaborn.pydata.org/tutorial/color_palettes.html#diverging-color-palettes\" target=\"_blank\">documentation here</a> and change the colour map to a more suitable alternative.</p>"
   ]
  },
  {
   "cell_type": "code",
   "execution_count": null,
   "metadata": {},
   "outputs": [],
   "source": [
    "# Answer 13\n",
    "plt.figure(figsize=(15,15))\n",
    "sns.heatmap(fifa.corr(), cmap='RdBu', center=0)"
   ]
  },
  {
   "cell_type": "markdown",
   "metadata": {},
   "source": [
    "This is much better, right? You don't need to work hard to convert the sequential scale from before to positive and negative correlations, the colour map helps us. "
   ]
  },
  {
   "cell_type": "markdown",
   "metadata": {},
   "source": [
    "<p style=\"background: #81ecec; padding: 10px; color: #2c3e50\"><strong>BASIC EXERCISE</strong> | As we discussed in the lectures, it's better if groups of similar item/colours are close together to facilitate comparison. The clustermap from seaborn can bring some order to this currently wild visualization. Check out the <a href=\"https://seaborn.pydata.org/generated/seaborn.clustermap.html\" target=\"_blank\">seaborn documentation</a> to see how you can use this visualization.</p>"
   ]
  },
  {
   "cell_type": "code",
   "execution_count": null,
   "metadata": {
    "ExecuteTime": {
     "end_time": "2017-08-31T20:10:25.627850+02:00",
     "start_time": "2017-08-31T20:10:25.538941"
    }
   },
   "outputs": [],
   "source": [
    "# Answer 14\n",
    "sns.clustermap(fifa.corr().fillna(0), figsize=(20,20), cmap='RdBu')"
   ]
  },
  {
   "cell_type": "markdown",
   "metadata": {},
   "source": [
    "<p style=\"background: #ffeaa7; padding: 10px; color: #2c3e50\"><strong>OPTIONAL EXERCISE</strong> | Is this visualization safe for colourblind users? You can check here at <a href=\"https://www.color-blindness.com/coblis-color-blindness-simulator/\" target=\"_blank\">Color Blindness Simulator</a> </p>"
   ]
  },
  {
   "cell_type": "raw",
   "metadata": {},
   "source": [
    "# Answer 15\n",
    "Yes."
   ]
  },
  {
   "cell_type": "markdown",
   "metadata": {},
   "source": [
    "# Multivariate Distributions\n",
    "\n",
    "So far, we've seen how we can we can visualize one or two variables and their distributions, but we often have many more variables. Therefore we'd like to be able to visualize more at once to discover areas of interest."
   ]
  },
  {
   "cell_type": "markdown",
   "metadata": {
    "ExecuteTime": {
     "end_time": "2017-09-01T09:03:18.738396+02:00",
     "start_time": "2017-09-01T09:03:18.735895"
    }
   },
   "source": [
    "## Scatter Plot Matrices"
   ]
  },
  {
   "cell_type": "code",
   "execution_count": null,
   "metadata": {
    "ExecuteTime": {
     "end_time": "2017-09-01T09:06:18.903298+02:00",
     "start_time": "2017-09-01T09:06:05.222327"
    }
   },
   "outputs": [],
   "source": [
    "# We can do this pretty easily with Seaborn, however, for very large data frames, \n",
    "# this is computationally expensive to plot. So we'll focus on one country, Spain!\n",
    "sns.pairplot(data=fifa[fifa.Nationality=='France'][['Composure', 'StandingTackle', 'LongShots', \n",
    "                                              'Curve', 'Volleys', 'Jumping', 'Reactions', 'Position']].dropna(), hue='Position');"
   ]
  },
  {
   "cell_type": "markdown",
   "metadata": {},
   "source": [
    "This is a classic example of where too many colours really messes up any possible messages that could be extracted from a visualization.\n",
    "\n",
    "If we think back to our lectures, we stated that we should have between 8-10 colours at a maximum. Here we've violated that guideline by having 28!\n",
    "\n",
    "We need to reduce the number of colours, and there are a number of strategies, but all centre around a need to reduce the number of categories we want to show.\n",
    "\n",
    "To take 28 to a lower number, we can:\n",
    " \n",
    " * Focus on particular sets of positions; or\n",
    " * Map these very specific positions to more general ones. e.g. RCB and LCD is a type of Defender. \n",
    " \n",
    "We'll try the second one now. This will be our first foray in to data cleaning, a key job in data science :)\n",
    "\n",
    "We can do this by using a mapping dictionary between the fine-grained positions to a more general one. Then we use the apply function on the position field to map the values."
   ]
  },
  {
   "cell_type": "markdown",
   "metadata": {},
   "source": [
    "<div style=\"background: #81ecec; padding: 10px; color: #2c3e50\"><p><strong>BASIC EXERCISE</strong> | This is a great example of a potentially nice visualization can be messed up by a terrible colour map.<br/>\n",
    "How would you go about improving this visualization?</p>\n",
    "</div>"
   ]
  },
  {
   "cell_type": "code",
   "execution_count": null,
   "metadata": {},
   "outputs": [],
   "source": [
    "# Answer 16\n",
    "sns.pairplot(data=fifa[fifa.Nationality=='France'][['Composure', 'StandingTackle', 'LongShots', \n",
    "                                              'Curve', 'Volleys', 'Jumping', 'Reactions', 'GeneralPosition']], hue='GeneralPosition');"
   ]
  },
  {
   "cell_type": "markdown",
   "metadata": {},
   "source": [
    "Plotting individual points is cool, but there is a lot of noise in these plots. There are other techniques you can use to increase the saliency of content in the visualization. \n",
    "\n",
    "A key question to always ask yourself is, what do I really want to see? In this instance, I want to see which values are more correlated with each other. Therefore having all the points, while nice, will slow down my visualization, and add noise.\n",
    "\n",
    "So, with that in mind, let's look at visualizing this data in a more clean way using Kernel Density Estimations."
   ]
  },
  {
   "cell_type": "markdown",
   "metadata": {},
   "source": [
    "## PairGrids"
   ]
  },
  {
   "cell_type": "markdown",
   "metadata": {},
   "source": [
    "We can also create some pretty advanced visualizations by combining different types of plots. \n",
    "\n",
    "For instance, we want to show: \n",
    " * a **scatter plot** to the **right of the diagonal**;\n",
    " * a **KDE plot** to the **left of the diagonal**;\n",
    " * a **histogram** in the **diagonal**;\n",
    " \n",
    "Seaborn allows us to compose these plots together like so."
   ]
  },
  {
   "cell_type": "code",
   "execution_count": null,
   "metadata": {},
   "outputs": [],
   "source": [
    "g = sns.PairGrid(data=fifa[fifa.Nationality=='England'][['Agility', 'Vision', 'LongShots', 'ShortPassing', 'Composure', 'Reactions', 'GeneralPosition']], hue='GeneralPosition')\n",
    "\n",
    "# What needs to be on the right of the diagonal.\n",
    "g.map_upper(sns.kdeplot, fill=True, thresh=0.2)\n",
    "\n",
    "# What needs to be on the left of the diagonal.\n",
    "g.map_lower(sns.scatterplot, alpha=0.5)\n",
    "\n",
    "# What should be on the diagonal\n",
    "g.map_diag(plt.hist, bins=10, alpha=0.5);\n",
    "\n",
    "plt.legend(loc='best')"
   ]
  },
  {
   "cell_type": "markdown",
   "metadata": {},
   "source": [
    "<div style=\"background: #81ecec; padding: 10px; color: #2c3e50\"><p><strong>BASIC EXERCISE </strong> | Which feature pairs have the greatest amount of overlap - close to no separation exists in the groups?</p>\n",
    "</div>"
   ]
  },
  {
   "cell_type": "raw",
   "metadata": {},
   "source": [
    "# Answer 17\n",
    "Reactions vs Composure."
   ]
  },
  {
   "cell_type": "markdown",
   "metadata": {},
   "source": [
    "## Parallel Coordinates\n",
    "\n",
    "My favourite! Perfect for visualizing many variables at once, for help in clustering, and outlier detection in particular."
   ]
  },
  {
   "cell_type": "code",
   "execution_count": null,
   "metadata": {},
   "outputs": [],
   "source": [
    "from pandas.plotting import parallel_coordinates"
   ]
  },
  {
   "cell_type": "code",
   "execution_count": null,
   "metadata": {},
   "outputs": [],
   "source": [
    "spanish_players = fifa[fifa.Nationality  == 'Spain']\n",
    "string_columns = [fifa.columns[idx] for idx, data_type in enumerate(fifa.dtypes) if data_type == 'object']\n",
    "\n",
    "# We want to keep the GeneralPosition column (to colour our coordinates) \n",
    "string_columns.pop(string_columns.index('GeneralPosition'));\n",
    "string_columns.pop(string_columns.index('Name'));\n",
    "\n",
    "spanish_players = spanish_players.drop(['ID', 'Special', 'Name'] + string_columns, axis=1).fillna(0)"
   ]
  },
  {
   "cell_type": "code",
   "execution_count": null,
   "metadata": {},
   "outputs": [],
   "source": [
    "plt.figure(figsize=(20, 8))\n",
    "\n",
    "g = parallel_coordinates(spanish_players, 'GeneralPosition', colormap='viridis', axvlines=False)\n",
    "plt.legend(loc='best')\n",
    "plt.setp(g.get_xticklabels(), rotation=90);"
   ]
  },
  {
   "cell_type": "markdown",
   "metadata": {},
   "source": [
    "### Placing Correlated Columns Closer together"
   ]
  },
  {
   "cell_type": "markdown",
   "metadata": {},
   "source": [
    "Now, as we discussed in the lecture, the utility of the Parallel Coordinates is greatly influenced by the ordering of the columns. Can we order the columns so that the most correlated features are closer together?\n",
    "\n",
    "Here, we will use the clustermap function from Seaborn to also extract the dendrogram used to show feature similarity -> plus it also gives us a rather nice chart. "
   ]
  },
  {
   "cell_type": "code",
   "execution_count": null,
   "metadata": {},
   "outputs": [],
   "source": [
    "clustermap = sns.clustermap(spanish_players.corr(), cmap='RdBu_r')"
   ]
  },
  {
   "cell_type": "markdown",
   "metadata": {},
   "source": [
    "You'll see that it automatically performs hierarchical clustering on the correlation matrix, so we can see that there are groups of features that are highlighly correlated, in particular:\n",
    "\n",
    " * Goalkeeper features in particular;\n",
    " * Defending features such as Aggression, Marking, SlidingTackle, and Interceptions;\n",
    " * Physical features such as Stamina, Acceleration, SprintSpeed, Agility, and Balance;\n",
    " * Passing features such as BallControl, LongPassing, ShortPassing, and Crossing; and\n",
    " * Shooting features such as Finishing and Volleys\n",
    " \n",
    "We can access this 'Dendrogram' (the technical term for the tree visualization on columns and rows) easily via this command."
   ]
  },
  {
   "cell_type": "code",
   "execution_count": null,
   "metadata": {},
   "outputs": [],
   "source": [
    "spanish_players"
   ]
  },
  {
   "cell_type": "code",
   "execution_count": null,
   "metadata": {},
   "outputs": [],
   "source": [
    "spanish_players.columns[clustermap.dendrogram_row.reordered_ind]"
   ]
  },
  {
   "cell_type": "markdown",
   "metadata": {},
   "source": [
    "Now, we can plug this in to the Parallel Coordinates visualization to try and reduce the work required by the users of our visualization, or indeed us!"
   ]
  },
  {
   "cell_type": "code",
   "execution_count": null,
   "metadata": {
    "scrolled": true
   },
   "outputs": [],
   "source": [
    "plt.figure(figsize=(20, 8))\n",
    "g = parallel_coordinates(spanish_players, 'GeneralPosition', cols=spanish_players.columns[clustermap.dendrogram_row.reordered_ind], axvlines=False, colormap='viridis')\n",
    "plt.legend(loc='best')\n",
    "plt.setp(g.get_xticklabels(), rotation=90);"
   ]
  },
  {
   "cell_type": "markdown",
   "metadata": {},
   "source": [
    "### Adding Annotations"
   ]
  },
  {
   "cell_type": "code",
   "execution_count": null,
   "metadata": {},
   "outputs": [],
   "source": [
    "plt.figure(figsize=(20, 8))\n",
    "g = parallel_coordinates(spanish_players, 'GeneralPosition', cols=spanish_players.columns[clustermap.dendrogram_row.reordered_ind], axvlines=False, colormap='viridis')\n",
    "plt.legend(loc='best')\n",
    "plt.setp(g.get_xticklabels(), rotation=90);\n",
    "\n",
    "plt.annotate('De Gea', xy=(40, 87), xytext=(40, 90), arrowprops=dict(arrowstyle='->', connectionstyle='angle'))\n",
    "plt.annotate('Lluis Andreu', xy=(40, 53), xytext=(40, 30), arrowprops=dict(arrowstyle='->', connectionstyle='angle'))"
   ]
  },
  {
   "cell_type": "markdown",
   "metadata": {},
   "source": [
    "It's also nice to simply highlight what you want people to look at, especially if the visualization is part of a narrative. \n",
    "For this we can specify the colors 'manually', then highlight the rows we want."
   ]
  },
  {
   "cell_type": "code",
   "execution_count": null,
   "metadata": {},
   "outputs": [],
   "source": [
    "fifa.query('Nationality == \"Spain\" & GeneralPosition == \"GK\"')"
   ]
  },
  {
   "cell_type": "code",
   "execution_count": null,
   "metadata": {},
   "outputs": [],
   "source": [
    "plt.figure(figsize=(20, 8))\n",
    "\n",
    "g = parallel_coordinates(spanish_players, 'GeneralPosition', cols=spanish_players.columns[clustermap.dendrogram_row.reordered_ind], color='lightgray', axvlines=False)\n",
    "plt.legend(loc='best')\n",
    "plt.setp(g.get_xticklabels(), rotation=90);\n",
    "\n",
    "# The parallel_coordinates plot doesn't natively support setting the alpha value for the lines, but we can do it, since behind, everything is in matplotlib.\n",
    "for line in g.lines:\n",
    "    line.set_alpha(0.1)\n",
    "\n",
    "# Then, we replot the lines we wish to highlight based on their index in the data.\n",
    "for to_highlight in [14134, 16602]:\n",
    "    highlight_row = spanish_players.loc[to_highlight]\n",
    "    for i in range(len(spanish_players.columns) - 2):  # -2 to account for the species column and last column\n",
    "        plt.plot([i, i + 1], [highlight_row[i], highlight_row[i + 1]], color='grey', linewidth=1, alpha=1)\n",
    "\n",
    "plt.annotate('De Gea', xy=(40, 87), xytext=(40, 90), arrowprops=dict(arrowstyle='->', connectionstyle='angle'));\n",
    "plt.annotate('Lluis Andreu', xy=(40, 53), xytext=(40, 30), arrowprops=dict(arrowstyle='->', connectionstyle='angle'));\n"
   ]
  },
  {
   "cell_type": "markdown",
   "metadata": {},
   "source": [
    "## Faceted Visualizations\n",
    "\n",
    "How you split the data can also provide many insights, and there are many ways in which we could split this data (which is why I chose it :)).\n",
    "\n",
    "By providing the col parameter as Nationality, this will create one column for each nationality. col_wrap allows me to output only 5 columns per row."
   ]
  },
  {
   "cell_type": "code",
   "execution_count": null,
   "metadata": {
    "ExecuteTime": {
     "end_time": "2017-08-31T18:03:28.244839+02:00",
     "start_time": "2017-08-31T18:03:23.361191"
    }
   },
   "outputs": [],
   "source": [
    "g = sns.FacetGrid(\n",
    "    fifa[fifa.Nationality.isin(['Italy', 'France', 'Brazil', 'Belgium', 'Germany', 'Spain', 'Argentina', 'England', 'Switzerland', 'Romania'])], \n",
    "    col=\"Nationality\", height=3, aspect=1, col_wrap=5, \n",
    "    hue='GeneralPosition', sharex=True, sharey=False)\n",
    "\n",
    "g.map(sns.kdeplot, 'Acceleration').add_legend()"
   ]
  },
  {
   "cell_type": "code",
   "execution_count": null,
   "metadata": {},
   "outputs": [],
   "source": [
    "# or with histograms\n",
    "g = sns.FacetGrid(\n",
    "    fifa[fifa.Nationality.isin(['Italy', 'France', 'Brazil', 'Belgium', 'Germany', 'Spain', 'Argentina', 'England', 'Switzerland', 'Romania'])], \n",
    "    col=\"Nationality\", height=3, aspect=1, col_wrap=5, \n",
    "    hue='GeneralPosition', sharex=True, sharey=False)\n",
    "\n",
    "g.map(plt.hist, 'Acceleration', alpha=0.4).add_legend();"
   ]
  },
  {
   "cell_type": "markdown",
   "metadata": {},
   "source": [
    "Or we can remove the 'noise' created by all these bars and use the KDE plot to enable comparison instead."
   ]
  },
  {
   "cell_type": "code",
   "execution_count": null,
   "metadata": {},
   "outputs": [],
   "source": [
    "# or with KDE plots\n",
    "g = sns.FacetGrid(\n",
    "    fifa[fifa.Nationality.isin(['Italy', 'France', 'Brazil', 'Belgium', 'Germany', 'Spain', 'Argentina', 'England', 'Switzerland', 'Romania'])], \n",
    "    col=\"Nationality\", height=3, aspect=1, col_wrap=5, \n",
    "    hue='GeneralPosition', sharex=True, sharey=False)\n",
    "\n",
    "g.map(sns.kdeplot, 'Acceleration', alpha=0.4, fill=True).add_legend();"
   ]
  },
  {
   "cell_type": "code",
   "execution_count": null,
   "metadata": {},
   "outputs": [],
   "source": [
    "# For box plots, it's better to use the catplot function\n",
    "g=sns.catplot(x=\"GeneralPosition\", y=\"Acceleration\",\n",
    "    hue=\"GeneralPosition\", col=\"Nationality\", col_wrap=5,\n",
    "    data=fifa[fifa.Nationality.isin(['Italy', 'France', 'Brazil', 'Belgium', 'Germany', 'Spain', 'Argentina', 'England', 'Switzerland', 'Romania'])], kind=\"box\",\n",
    "    height=3, aspect=.8);\n",
    "g.add_legend();"
   ]
  },
  {
   "cell_type": "code",
   "execution_count": null,
   "metadata": {},
   "outputs": [],
   "source": [
    "# or with a scatter plot\n",
    "g = sns.FacetGrid(fifa[fifa.Nationality.isin(['Italy', 'France', 'Brazil', 'Belgium', 'Germany', 'Spain', 'Argentina', 'England', 'Switzerland', 'Romania'])], col=\"GeneralPosition\", height=3, aspect=1, col_wrap=5, hue='GeneralPosition', sharex=True, sharey=True)\n",
    "g.map(plt.scatter, 'Acceleration', 'SprintSpeed', alpha=0.3).add_legend();"
   ]
  },
  {
   "cell_type": "markdown",
   "metadata": {},
   "source": [
    "# Should you choose to accept it"
   ]
  },
  {
   "cell_type": "markdown",
   "metadata": {},
   "source": [
    "<p style=\"background: #ffeaa7; padding: 10px; color: #2c3e50\"><strong>OPTIONAL EXERCISE</strong>: Our users want to see which attributes are most important for each position. How could you visualize this?</p>"
   ]
  },
  {
   "cell_type": "code",
   "execution_count": null,
   "metadata": {},
   "outputs": [],
   "source": [
    "# Answer 18\n",
    "sns.clustermap(fifa.drop(columns=['Weak Foot', 'Overall', 'Skill Moves', 'ID', 'Age', 'Jersey Number', 'International Reputation', 'Special']).fillna(0).pivot_table(index='Position', aggfunc=np.median), cmap='Blues')"
   ]
  },
  {
   "cell_type": "markdown",
   "metadata": {},
   "source": [
    "# More Resources"
   ]
  },
  {
   "cell_type": "markdown",
   "metadata": {},
   "source": [
    "There is really a huge number of resources out there to help with many types of visualizations, and when you need to create custom visualizations, you'll be able to ask online communities (including me) to help you.\n",
    "\n",
    "## General Resources\n",
    "\n",
    " * Visual Vocabulary from the FT - https://ft-interactive.github.io/visual-vocabulary/\n",
    "\n",
    "## Matplotlib\n",
    " * Annotations - https://matplotlib.org/tutorials/text/annotations.html#sphx-glr-tutorials-text-annotations-py\n",
    " * Scales - https://matplotlib.org/3.1.1/gallery/pyplots/pyplot_scales.html\n",
    " * Subplots - https://matplotlib.org/3.1.1/api/_as_gen/matplotlib.pyplot.subplots.html\n",
    "\n",
    "## Python Visualization\n",
    "\n",
    " * Python Graph Gallery - https://python-graph-gallery.com/\n",
    " * Pandas Profiler - https://github.com/pandas-profiling/pandas-profiling\n",
    " * Seaborn Examples - https://seaborn.pydata.org/examples/index.html\n",
    " "
   ]
  },
  {
   "cell_type": "code",
   "execution_count": null,
   "metadata": {},
   "outputs": [],
   "source": []
  }
 ],
 "metadata": {
  "hide_input": false,
  "kernelspec": {
   "display_name": ".venv",
   "language": "python",
   "name": "python3"
  },
  "language_info": {
   "codemirror_mode": {
    "name": "ipython",
    "version": 3
   },
   "file_extension": ".py",
   "mimetype": "text/x-python",
   "name": "python",
   "nbconvert_exporter": "python",
   "pygments_lexer": "ipython3",
   "version": "3.11.4"
  },
  "toc": {
   "base_numbering": 1,
   "nav_menu": {
    "height": "354px",
    "width": "252px"
   },
   "number_sections": true,
   "sideBar": true,
   "skip_h1_title": false,
   "title_cell": "Table of Contents",
   "title_sidebar": "Contents",
   "toc_cell": false,
   "toc_position": {
    "height": "906px",
    "left": "0px",
    "right": "1598px",
    "top": "106px",
    "width": "212px"
   },
   "toc_section_display": "block",
   "toc_window_display": true
  }
 },
 "nbformat": 4,
 "nbformat_minor": 4
}
